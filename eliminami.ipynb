{
 "cells": [
  {
   "metadata": {
    "ExecuteTime": {
     "end_time": "2024-06-18T07:58:55.464501Z",
     "start_time": "2024-06-18T07:58:54.740283Z"
    }
   },
   "cell_type": "code",
   "source": [
    "import numpy as np\n",
    "from statsmodels.multivariate.pca import PCA\n",
    "import matplotlib.pyplot as plt\n",
    "from pyts.datasets import make_cylinder_bell_funnel\n",
    "import similaritymeasures"
   ],
   "id": "7b81dfb398b211d0",
   "execution_count": 6,
   "outputs": []
  },
  {
   "metadata": {
    "ExecuteTime": {
     "end_time": "2024-06-18T07:58:55.469008Z",
     "start_time": "2024-06-18T07:58:55.465323Z"
    }
   },
   "cell_type": "code",
   "source": "X, y = make_cylinder_bell_funnel(n_samples=12, random_state=42)",
   "id": "96e6b36b5f97ac89",
   "execution_count": 7,
   "outputs": []
  },
  {
   "metadata": {
    "ExecuteTime": {
     "end_time": "2024-06-18T08:06:07.652999Z",
     "start_time": "2024-06-18T08:06:07.560544Z"
    }
   },
   "cell_type": "code",
   "source": [
    "A = X[np.argmax(y)].reshape(-1, 1)\n",
    "B = X[np.argmin(y)].reshape(-1, 1)\n",
    "\n",
    "plt.plot(A)\n",
    "plt.plot(B)\n",
    "plt.show()"
   ],
   "id": "3ffb4cb67b03cf5d",
   "execution_count": 38,
   "outputs": []
  },
  {
   "metadata": {
    "ExecuteTime": {
     "end_time": "2024-06-18T08:06:08.380648Z",
     "start_time": "2024-06-18T08:06:08.376892Z"
    }
   },
   "cell_type": "code",
   "source": "A.shape",
   "id": "6fc36e148def0010",
   "execution_count": 39,
   "outputs": []
  },
  {
   "metadata": {
    "ExecuteTime": {
     "end_time": "2024-06-18T08:06:54.705489Z",
     "start_time": "2024-06-18T08:06:54.632447Z"
    }
   },
   "cell_type": "code",
   "source": [
    "A_pca = PCA(A, ncomp=1)\n",
    "B_pca = PCA(B, ncomp=1)"
   ],
   "id": "8e16c4810069af6",
   "execution_count": 45,
   "outputs": []
  },
  {
   "metadata": {
    "ExecuteTime": {
     "end_time": "2024-06-18T08:06:55.728004Z",
     "start_time": "2024-06-18T08:06:55.672250Z"
    }
   },
   "cell_type": "code",
   "source": [
    "plt.plot(A_pca.coeff)\n",
    "plt.plot(B_pca.coeff)\n",
    "plt.show()"
   ],
   "id": "5bf4683733874dfb",
   "execution_count": 46,
   "outputs": []
  },
  {
   "metadata": {
    "ExecuteTime": {
     "end_time": "2024-06-18T08:06:58.758026Z",
     "start_time": "2024-06-18T08:06:58.754153Z"
    }
   },
   "cell_type": "code",
   "source": "B_pca.coeff",
   "id": "7e5bc35a27e93619",
   "execution_count": 47,
   "outputs": []
  },
  {
   "metadata": {
    "ExecuteTime": {
     "end_time": "2024-06-18T08:04:59.921785Z",
     "start_time": "2024-06-18T08:04:59.914980Z"
    }
   },
   "cell_type": "code",
   "source": "A.shape",
   "id": "2b6e3efeed746a74",
   "execution_count": 31,
   "outputs": []
  },
  {
   "metadata": {},
   "cell_type": "code",
   "execution_count": null,
   "source": "",
   "id": "46678ede8663ae97",
   "outputs": []
  }
 ],
 "metadata": {
  "kernelspec": {
   "display_name": "Python 3",
   "language": "python",
   "name": "python3"
  },
  "language_info": {
   "codemirror_mode": {
    "name": "ipython",
    "version": 2
   },
   "file_extension": ".py",
   "mimetype": "text/x-python",
   "name": "python",
   "nbconvert_exporter": "python",
   "pygments_lexer": "ipython2",
   "version": "2.7.6"
  }
 },
 "nbformat": 4,
 "nbformat_minor": 5
}
